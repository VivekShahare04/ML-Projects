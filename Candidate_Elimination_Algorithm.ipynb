{
  "nbformat": 4,
  "nbformat_minor": 0,
  "metadata": {
    "colab": {
      "provenance": [],
      "authorship_tag": "ABX9TyMF2522JY3MnAGZu9behCsx",
      "include_colab_link": true
    },
    "kernelspec": {
      "name": "python3",
      "display_name": "Python 3"
    },
    "language_info": {
      "name": "python"
    }
  },
  "cells": [
    {
      "cell_type": "markdown",
      "metadata": {
        "id": "view-in-github",
        "colab_type": "text"
      },
      "source": [
        "<a href=\"https://colab.research.google.com/github/VivekShahare04/ML-Projects/blob/main/Candidate_Elimination_Algorithm.ipynb\" target=\"_parent\"><img src=\"https://colab.research.google.com/assets/colab-badge.svg\" alt=\"Open In Colab\"/></a>"
      ]
    },
    {
      "cell_type": "code",
      "execution_count": 1,
      "metadata": {
        "id": "Tb5Q2OKsxDvk"
      },
      "outputs": [],
      "source": [
        "import numpy as np\n",
        "import pandas as pd"
      ]
    },
    {
      "cell_type": "code",
      "source": [
        "data = pd.read_csv('2.csv')\n",
        "concepts = np.array(data.iloc[:,0:-1])\n",
        "target = np.array(data.iloc[:,-1])\n",
        "def learn(concepts, target):\n",
        "    specific_h = concepts[0].copy()\n",
        "    print(\"initialization of specific_h \\n\",specific_h)\n",
        "    general_h = [[\"?\" for i in range(len(specific_h))] for i in range(len(specific_h))]\n",
        "    print(\"initialization of general_h \\n\", general_h)\n",
        "\n",
        "    for i, h in enumerate(concepts):\n",
        "        if target[i] == \"yes\":\n",
        "            print(\"If instance is Positive \")\n",
        "            for x in range(len(specific_h)):\n",
        "                if h[x]!= specific_h[x]:\n",
        "                    specific_h[x] ='?'\n",
        "                    general_h[x][x] ='?'\n",
        "\n",
        "        if target[i] == \"no\":\n",
        "            print(\"If instance is Negative \")\n",
        "            for x in range(len(specific_h)):\n",
        "                if h[x]!= specific_h[x]:\n",
        "                    general_h[x][x] = specific_h[x]\n",
        "                else:\n",
        "                    general_h[x][x] = '?'\n",
        "\n",
        "        print(\" step {}\".format(i+1))\n",
        "        print(specific_h)\n",
        "        print(general_h)\n",
        "        print(\"\\n\")\n",
        "        print(\"\\n\")\n",
        "\n",
        "    indices = [i for i, val in enumerate(general_h) if val == ['?', '?', '?', '?', '?', '?']]\n",
        "    for i in indices:\n",
        "        general_h.remove(['?', '?', '?', '?', '?', '?'])\n",
        "    return specific_h, general_h\n",
        "\n",
        "s_final, g_final = learn(concepts, target)\n",
        "\n",
        "print(\"Final Specific_h:\", s_final, sep=\"\\n\")\n",
        "print(\"Final General_h:\", g_final, sep=\"\\n\")\n"
      ],
      "metadata": {
        "colab": {
          "base_uri": "https://localhost:8080/"
        },
        "id": "Eou-ZsVmxJmS",
        "outputId": "421a237a-bd53-4708-cb51-cf6cdcebf6e8"
      },
      "execution_count": 3,
      "outputs": [
        {
          "output_type": "stream",
          "name": "stdout",
          "text": [
            "initialization of specific_h \n",
            " ['sunny' 'warm' 'normal' 'strong' 'warm' 'same']\n",
            "initialization of general_h \n",
            " [['?', '?', '?', '?', '?', '?'], ['?', '?', '?', '?', '?', '?'], ['?', '?', '?', '?', '?', '?'], ['?', '?', '?', '?', '?', '?'], ['?', '?', '?', '?', '?', '?'], ['?', '?', '?', '?', '?', '?']]\n",
            "If instance is Positive \n",
            " step 1\n",
            "['sunny' 'warm' 'normal' 'strong' 'warm' 'same']\n",
            "[['?', '?', '?', '?', '?', '?'], ['?', '?', '?', '?', '?', '?'], ['?', '?', '?', '?', '?', '?'], ['?', '?', '?', '?', '?', '?'], ['?', '?', '?', '?', '?', '?'], ['?', '?', '?', '?', '?', '?']]\n",
            "\n",
            "\n",
            "\n",
            "\n",
            "If instance is Positive \n",
            " step 2\n",
            "['sunny' 'warm' '?' 'strong' 'warm' 'same']\n",
            "[['?', '?', '?', '?', '?', '?'], ['?', '?', '?', '?', '?', '?'], ['?', '?', '?', '?', '?', '?'], ['?', '?', '?', '?', '?', '?'], ['?', '?', '?', '?', '?', '?'], ['?', '?', '?', '?', '?', '?']]\n",
            "\n",
            "\n",
            "\n",
            "\n",
            "If instance is Negative \n",
            " step 3\n",
            "['sunny' 'warm' '?' 'strong' 'warm' 'same']\n",
            "[['sunny', '?', '?', '?', '?', '?'], ['?', 'warm', '?', '?', '?', '?'], ['?', '?', '?', '?', '?', '?'], ['?', '?', '?', '?', '?', '?'], ['?', '?', '?', '?', '?', '?'], ['?', '?', '?', '?', '?', 'same']]\n",
            "\n",
            "\n",
            "\n",
            "\n",
            "If instance is Positive \n",
            " step 4\n",
            "['sunny' 'warm' '?' 'strong' '?' '?']\n",
            "[['sunny', '?', '?', '?', '?', '?'], ['?', 'warm', '?', '?', '?', '?'], ['?', '?', '?', '?', '?', '?'], ['?', '?', '?', '?', '?', '?'], ['?', '?', '?', '?', '?', '?'], ['?', '?', '?', '?', '?', '?']]\n",
            "\n",
            "\n",
            "\n",
            "\n",
            "Final Specific_h:\n",
            "['sunny' 'warm' '?' 'strong' '?' '?']\n",
            "Final General_h:\n",
            "[['sunny', '?', '?', '?', '?', '?'], ['?', 'warm', '?', '?', '?', '?']]\n"
          ]
        }
      ]
    },
    {
      "cell_type": "code",
      "source": [],
      "metadata": {
        "id": "UfGePUnYxXQc"
      },
      "execution_count": null,
      "outputs": []
    }
  ]
}