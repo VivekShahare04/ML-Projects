{
  "nbformat": 4,
  "nbformat_minor": 0,
  "metadata": {
    "colab": {
      "provenance": [],
      "authorship_tag": "ABX9TyPPkoyKeF/4T+V2ns3QIIB3",
      "include_colab_link": true
    },
    "kernelspec": {
      "name": "python3",
      "display_name": "Python 3"
    },
    "language_info": {
      "name": "python"
    }
  },
  "cells": [
    {
      "cell_type": "markdown",
      "metadata": {
        "id": "view-in-github",
        "colab_type": "text"
      },
      "source": [
        "<a href=\"https://colab.research.google.com/github/VivekShahare04/ML-Projects/blob/main/Multioutput_Regression.ipynb\" target=\"_parent\"><img src=\"https://colab.research.google.com/assets/colab-badge.svg\" alt=\"Open In Colab\"/></a>"
      ]
    },
    {
      "cell_type": "code",
      "execution_count": 2,
      "metadata": {
        "id": "vUbmPO1_id-D"
      },
      "outputs": [],
      "source": [
        "import numpy as np\n",
        "import torch"
      ]
    },
    {
      "cell_type": "code",
      "source": [
        "inputs = np.array([[23,45,67],\n",
        "                   [34,67,54],\n",
        "                   [34,23,13],\n",
        "                   [56,87,98],\n",
        "                   [56,76,34]],dtype = 'float32')\n",
        "inputs.shape"
      ],
      "metadata": {
        "id": "zQLhPYBbjKzk",
        "colab": {
          "base_uri": "https://localhost:8080/"
        },
        "outputId": "ff99c3f7-7698-464f-e504-a1212be430f9"
      },
      "execution_count": 15,
      "outputs": [
        {
          "output_type": "execute_result",
          "data": {
            "text/plain": [
              "(5, 3)"
            ]
          },
          "metadata": {},
          "execution_count": 15
        }
      ]
    },
    {
      "cell_type": "code",
      "source": [
        "targets = np.array([[34,76],[56,87],[45,56],[98,32],[76,65]],dtype='float32')\n",
        "targets.shape"
      ],
      "metadata": {
        "id": "k2y27ilzjp3b",
        "colab": {
          "base_uri": "https://localhost:8080/"
        },
        "outputId": "1c354f91-4b06-4717-cbda-e70e30e97825"
      },
      "execution_count": 17,
      "outputs": [
        {
          "output_type": "execute_result",
          "data": {
            "text/plain": [
              "(5, 2)"
            ]
          },
          "metadata": {},
          "execution_count": 17
        }
      ]
    },
    {
      "cell_type": "code",
      "source": [
        "inputs = torch.from_numpy(inputs)\n",
        "targets = torch.from_numpy(targets)\n",
        "print(inputs)\n",
        "print(targets)"
      ],
      "metadata": {
        "colab": {
          "base_uri": "https://localhost:8080/"
        },
        "id": "8Sp0qlwuk_OU",
        "outputId": "b6750010-7b76-4826-80e7-073766d792d9"
      },
      "execution_count": 18,
      "outputs": [
        {
          "output_type": "stream",
          "name": "stdout",
          "text": [
            "tensor([[23., 45., 67.],\n",
            "        [34., 67., 54.],\n",
            "        [34., 23., 13.],\n",
            "        [56., 87., 98.],\n",
            "        [56., 76., 34.]])\n",
            "tensor([[34., 76.],\n",
            "        [56., 87.],\n",
            "        [45., 56.],\n",
            "        [98., 32.],\n",
            "        [76., 65.]])\n"
          ]
        }
      ]
    },
    {
      "cell_type": "code",
      "source": [
        "w = torch.randn(2,3,requires_grad=True)\n",
        "b = torch.randn(2,requires_grad=True)\n",
        "print(w)\n",
        "print(b)"
      ],
      "metadata": {
        "colab": {
          "base_uri": "https://localhost:8080/"
        },
        "id": "bsCcDVRqlMmU",
        "outputId": "6bac174c-903e-4051-9a68-bda78746acbf"
      },
      "execution_count": 19,
      "outputs": [
        {
          "output_type": "stream",
          "name": "stdout",
          "text": [
            "tensor([[-1.1071e+00,  8.7209e-01,  9.8732e-04],\n",
            "        [-7.0248e-03,  8.1591e-01, -2.3729e-01]], requires_grad=True)\n",
            "tensor([-0.5026,  1.0934], requires_grad=True)\n"
          ]
        }
      ]
    },
    {
      "cell_type": "code",
      "source": [
        "w.shape ,b.shape"
      ],
      "metadata": {
        "colab": {
          "base_uri": "https://localhost:8080/"
        },
        "id": "CXhVplzwmmIl",
        "outputId": "e0804547-2c3d-42c6-ee48-a3e1d892f9b8"
      },
      "execution_count": 20,
      "outputs": [
        {
          "output_type": "execute_result",
          "data": {
            "text/plain": [
              "(torch.Size([2, 3]), torch.Size([2]))"
            ]
          },
          "metadata": {},
          "execution_count": 20
        }
      ]
    },
    {
      "cell_type": "code",
      "source": [
        "def model(x):\n",
        "  return x @ w.t() + b;"
      ],
      "metadata": {
        "id": "fnBCwc3Ymxas"
      },
      "execution_count": 21,
      "outputs": []
    },
    {
      "cell_type": "code",
      "source": [
        "prediction = model(inputs)\n",
        "prediction"
      ],
      "metadata": {
        "colab": {
          "base_uri": "https://localhost:8080/"
        },
        "id": "bmuBFHLPnBUT",
        "outputId": "eeecfda1-8e51-4ee3-b05b-6950d1f4adb3"
      },
      "execution_count": 22,
      "outputs": [
        {
          "output_type": "execute_result",
          "data": {
            "text/plain": [
              "tensor([[ 13.3441,  21.7496],\n",
              "        [ 20.3391,  42.7071],\n",
              "        [-18.0733,  16.5358],\n",
              "        [ 13.4679,  48.4301],\n",
              "        [  3.8118,  54.6415]], grad_fn=<AddBackward0>)"
            ]
          },
          "metadata": {},
          "execution_count": 22
        }
      ]
    },
    {
      "cell_type": "code",
      "source": [
        "def mse(t1,t2):\n",
        "  diff = t1-t2\n",
        "  return torch.sum(diff*diff)/diff.numel()"
      ],
      "metadata": {
        "id": "kWgCGTyfnGHN"
      },
      "execution_count": 23,
      "outputs": []
    },
    {
      "cell_type": "code",
      "source": [
        "loss = mse(prediction,targets)\n",
        "loss"
      ],
      "metadata": {
        "colab": {
          "base_uri": "https://localhost:8080/"
        },
        "id": "RRq5M-aAoTdZ",
        "outputId": "7ba55b29-321d-4645-f98c-647facace3a2"
      },
      "execution_count": 24,
      "outputs": [
        {
          "output_type": "execute_result",
          "data": {
            "text/plain": [
              "tensor(2487.3062, grad_fn=<DivBackward0>)"
            ]
          },
          "metadata": {},
          "execution_count": 24
        }
      ]
    },
    {
      "cell_type": "code",
      "source": [
        "loss.backward()"
      ],
      "metadata": {
        "id": "uFOss3chobu7"
      },
      "execution_count": 25,
      "outputs": []
    },
    {
      "cell_type": "code",
      "source": [
        "w.shape,b.shape"
      ],
      "metadata": {
        "colab": {
          "base_uri": "https://localhost:8080/"
        },
        "id": "93E9Nw-pog6p",
        "outputId": "93a7e012-6920-4bdb-c7a0-9e9607b8f4da"
      },
      "execution_count": 26,
      "outputs": [
        {
          "output_type": "execute_result",
          "data": {
            "text/plain": [
              "(torch.Size([2, 3]), torch.Size([2]))"
            ]
          },
          "metadata": {},
          "execution_count": 26
        }
      ]
    },
    {
      "cell_type": "code",
      "source": [
        "w.grad,b.grad"
      ],
      "metadata": {
        "colab": {
          "base_uri": "https://localhost:8080/"
        },
        "id": "ybuTvnhvojSC",
        "outputId": "822dc60b-2dd2-4a50-c35c-c746b073b1e0"
      },
      "execution_count": 27,
      "outputs": [
        {
          "output_type": "execute_result",
          "data": {
            "text/plain": [
              "(tensor([[-2521.6770, -3522.0154, -2973.6255],\n",
              "         [ -751.0980, -1134.8789, -1056.3330]]),\n",
              " tensor([-55.2221, -26.3872]))"
            ]
          },
          "metadata": {},
          "execution_count": 27
        }
      ]
    },
    {
      "cell_type": "code",
      "source": [
        "for i in range(20):\n",
        "  prediction=model(inputs)\n",
        "  loss = mse(prediction,targets)\n",
        "  print(f'epochs:{i},loss: {loss.item()}')\n",
        "  loss.backward()\n",
        "  with torch.no_grad():\n",
        "    w -= w.grad * 1e-5\n",
        "    b -= b.grad * 1e-5\n",
        "    w.grad.zero_()\n",
        "    b.grad.zero_()"
      ],
      "metadata": {
        "colab": {
          "base_uri": "https://localhost:8080/"
        },
        "id": "rwQbpwRRomRj",
        "outputId": "9fc35d8f-65cf-4da9-e999-3af2e5388c4a"
      },
      "execution_count": 29,
      "outputs": [
        {
          "output_type": "stream",
          "name": "stdout",
          "text": [
            "epochs:0,loss: 2487.30615234375\n",
            "epochs:1,loss: 1931.340087890625\n",
            "epochs:2,loss: 1735.874755859375\n",
            "epochs:3,loss: 1574.2408447265625\n",
            "epochs:4,loss: 1440.544921875\n",
            "epochs:5,loss: 1329.9207763671875\n",
            "epochs:6,loss: 1238.349853515625\n",
            "epochs:7,loss: 1162.5137939453125\n",
            "epochs:8,loss: 1099.6722412109375\n",
            "epochs:9,loss: 1047.5628662109375\n",
            "epochs:10,loss: 1004.31689453125\n",
            "epochs:11,loss: 968.3914794921875\n",
            "epochs:12,loss: 938.5130004882812\n",
            "epochs:13,loss: 913.62890625\n",
            "epochs:14,loss: 892.8707275390625\n",
            "epochs:15,loss: 875.5208129882812\n",
            "epochs:16,loss: 860.9869384765625\n",
            "epochs:17,loss: 848.7796630859375\n",
            "epochs:18,loss: 838.4952392578125\n",
            "epochs:19,loss: 829.8001708984375\n"
          ]
        }
      ]
    },
    {
      "cell_type": "code",
      "source": [
        "targets"
      ],
      "metadata": {
        "colab": {
          "base_uri": "https://localhost:8080/"
        },
        "id": "xntUuPRrrPOv",
        "outputId": "58a1a359-9f9d-481f-c05d-d749cdafecfa"
      },
      "execution_count": 30,
      "outputs": [
        {
          "output_type": "execute_result",
          "data": {
            "text/plain": [
              "tensor([[34., 76.],\n",
              "        [56., 87.],\n",
              "        [45., 56.],\n",
              "        [98., 32.],\n",
              "        [76., 65.]])"
            ]
          },
          "metadata": {},
          "execution_count": 30
        }
      ]
    },
    {
      "cell_type": "code",
      "source": [
        "prediction"
      ],
      "metadata": {
        "colab": {
          "base_uri": "https://localhost:8080/"
        },
        "id": "exbaYvprrbi3",
        "outputId": "c1e16888-3b9e-4f5c-9cad-0e990fc3adf2"
      },
      "execution_count": 31,
      "outputs": [
        {
          "output_type": "execute_result",
          "data": {
            "text/plain": [
              "tensor([[51.4646, 34.7569],\n",
              "        [65.4000, 57.5377],\n",
              "        [ 1.8823, 22.6817],\n",
              "        [82.1906, 71.2877],\n",
              "        [52.5973, 70.0220]], grad_fn=<AddBackward0>)"
            ]
          },
          "metadata": {},
          "execution_count": 31
        }
      ]
    },
    {
      "cell_type": "code",
      "source": [],
      "metadata": {
        "id": "tQ6ZQwCerdm4"
      },
      "execution_count": null,
      "outputs": []
    }
  ]
}