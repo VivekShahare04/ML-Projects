{
  "nbformat": 4,
  "nbformat_minor": 0,
  "metadata": {
    "colab": {
      "provenance": [],
      "authorship_tag": "ABX9TyPFa+u1m7br+RxUOKFL3D9m",
      "include_colab_link": true
    },
    "kernelspec": {
      "name": "python3",
      "display_name": "Python 3"
    },
    "language_info": {
      "name": "python"
    }
  },
  "cells": [
    {
      "cell_type": "markdown",
      "metadata": {
        "id": "view-in-github",
        "colab_type": "text"
      },
      "source": [
        "<a href=\"https://colab.research.google.com/github/VivekShahare04/ML-Projects/blob/main/pytorchNN.ipynb\" target=\"_parent\"><img src=\"https://colab.research.google.com/assets/colab-badge.svg\" alt=\"Open In Colab\"/></a>"
      ]
    },
    {
      "cell_type": "code",
      "execution_count": 4,
      "metadata": {
        "id": "skqawJUrz-sS"
      },
      "outputs": [],
      "source": [
        "import torch\n",
        "from torch.utils.data import Dataset,DataLoader,TensorDataset"
      ]
    },
    {
      "cell_type": "code",
      "source": [
        "x = torch.arange(13,dtype=torch.float16)\n",
        "x"
      ],
      "metadata": {
        "colab": {
          "base_uri": "https://localhost:8080/"
        },
        "id": "oQaDosOs0Sfg",
        "outputId": "333aa037-c32c-40b0-a74b-118478484a59"
      },
      "execution_count": 5,
      "outputs": [
        {
          "output_type": "execute_result",
          "data": {
            "text/plain": [
              "tensor([ 0.,  1.,  2.,  3.,  4.,  5.,  6.,  7.,  8.,  9., 10., 11., 12.],\n",
              "       dtype=torch.float16)"
            ]
          },
          "metadata": {},
          "execution_count": 5
        }
      ]
    },
    {
      "cell_type": "code",
      "source": [
        "data_loader = DataLoader(x)\n",
        "for item in data_loader:\n",
        "  print(item)"
      ],
      "metadata": {
        "colab": {
          "base_uri": "https://localhost:8080/"
        },
        "id": "nSedPxBs0ulj",
        "outputId": "3667bc7e-ce23-4999-8d90-090cfd25fb47"
      },
      "execution_count": 8,
      "outputs": [
        {
          "output_type": "stream",
          "name": "stdout",
          "text": [
            "tensor([0.], dtype=torch.float16)\n",
            "tensor([1.], dtype=torch.float16)\n",
            "tensor([2.], dtype=torch.float16)\n",
            "tensor([3.], dtype=torch.float16)\n",
            "tensor([4.], dtype=torch.float16)\n",
            "tensor([5.], dtype=torch.float16)\n",
            "tensor([6.], dtype=torch.float16)\n",
            "tensor([7.], dtype=torch.float16)\n",
            "tensor([8.], dtype=torch.float16)\n",
            "tensor([9.], dtype=torch.float16)\n",
            "tensor([10.], dtype=torch.float16)\n",
            "tensor([11.], dtype=torch.float16)\n",
            "tensor([12.], dtype=torch.float16)\n"
          ]
        }
      ]
    },
    {
      "cell_type": "code",
      "source": [
        "data_loader = DataLoader(x,batch_size=3,shuffle=True)\n",
        "for i,batch in enumerate(data_loader):\n",
        "  print(i,batch)"
      ],
      "metadata": {
        "colab": {
          "base_uri": "https://localhost:8080/"
        },
        "id": "q5-5L0mH05rO",
        "outputId": "611a0abc-0da3-4c19-8649-747f0c065f2d"
      },
      "execution_count": 9,
      "outputs": [
        {
          "output_type": "stream",
          "name": "stdout",
          "text": [
            "0 tensor([9., 0., 4.], dtype=torch.float16)\n",
            "1 tensor([10.,  3.,  1.], dtype=torch.float16)\n",
            "2 tensor([ 5., 11., 12.], dtype=torch.float16)\n",
            "3 tensor([2., 7., 8.], dtype=torch.float16)\n",
            "4 tensor([6.], dtype=torch.float16)\n"
          ]
        }
      ]
    },
    {
      "cell_type": "code",
      "source": [
        "from sklearn.datasets import make_classification\n",
        "X,y = make_classification(n_samples=10)\n",
        "X.shape,y.shape"
      ],
      "metadata": {
        "id": "ruvb4R6HBeHQ",
        "outputId": "56b3d90e-3909-42d1-e4d6-7b49b2d43bc6",
        "colab": {
          "base_uri": "https://localhost:8080/"
        }
      },
      "execution_count": 10,
      "outputs": [
        {
          "output_type": "execute_result",
          "data": {
            "text/plain": [
              "((10, 20), (10,))"
            ]
          },
          "metadata": {},
          "execution_count": 10
        }
      ]
    },
    {
      "cell_type": "code",
      "source": [
        "dataset = TensorDataset(torch.tensor(X),torch.tensor(y))\n",
        "dataset"
      ],
      "metadata": {
        "id": "Ir3tT0N1BzlL",
        "outputId": "c4e6675f-60a9-472c-a1fb-d364fcf6f722",
        "colab": {
          "base_uri": "https://localhost:8080/"
        }
      },
      "execution_count": 11,
      "outputs": [
        {
          "output_type": "execute_result",
          "data": {
            "text/plain": [
              "<torch.utils.data.dataset.TensorDataset at 0x7bf603b36f50>"
            ]
          },
          "metadata": {},
          "execution_count": 11
        }
      ]
    },
    {
      "cell_type": "code",
      "source": [],
      "metadata": {
        "id": "VkJf4rYJCFcY"
      },
      "execution_count": null,
      "outputs": []
    }
  ]
}